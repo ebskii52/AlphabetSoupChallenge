{
 "cells": [
  {
   "cell_type": "markdown",
   "metadata": {},
   "source": [
    "# Import, analyze, clean, and preprocess a “real-world” classification dataset."
   ]
  },
  {
   "cell_type": "code",
   "execution_count": null,
   "metadata": {},
   "outputs": [],
   "source": [
    "# Import our dependencies\n",
    "from sklearn.model_selection import train_test_split\n",
    "from sklearn.preprocessing import StandardScaler,OneHotEncoder\n",
    "from sklearn.linear_model import LogisticRegression\n",
    "from sklearn.metrics import accuracy_score\n",
    "import pandas as pd\n",
    "import tensorflow as tf\n",
    "\n",
    "# Import our input dataset\n",
    "charityDF = pd.read_csv('charity_data.csv')\n",
    "charityDF.head(n=2)\n"
   ]
  },
  {
   "cell_type": "code",
   "execution_count": null,
   "metadata": {},
   "outputs": [],
   "source": [
    "## What variable(s) are considered the target for your model?\n",
    "charityDF.IS_SUCCESSFUL\n"
   ]
  },
  {
   "cell_type": "code",
   "execution_count": null,
   "metadata": {},
   "outputs": [],
   "source": [
    "## What variable(s) are considered to be the features for your model?\n",
    "## What variable(s) are neither and should be removed from the input data?\n",
    "charityDF.drop(columns=[\"NAME\",\"IS_SUCCESSFUL\"])\n"
   ]
  },
  {
   "cell_type": "code",
   "execution_count": null,
   "metadata": {},
   "outputs": [],
   "source": [
    "## Generate our categorical variable list\n",
    "charityCat = charityDF.dtypes[charityDF.dtypes == \"object\"].index.tolist()\n",
    "\n",
    "# Check the number of unique values in each column\n",
    "charityDF[charityCat].nunique()\n"
   ]
  },
  {
   "cell_type": "code",
   "execution_count": null,
   "metadata": {},
   "outputs": [],
   "source": [
    "# Print out the Calcification Counts value counts\n",
    "CLASSIFICATION_counts = charityDF.CLASSIFICATION.value_counts()\n",
    "replace_Classification = list(CLASSIFICATION_counts[CLASSIFICATION_counts < 100].index)\n",
    "\n",
    "# Replace in DataFrame\n",
    "for classify in replace_Classification:\n",
    "    charityDF.CLASSIFICATION = charityDF.CLASSIFICATION.replace(classify,\"Other\")\n",
    "\n",
    "# Check to make sure binning was successful\n",
    "charityDF.CLASSIFICATION.value_counts()\n"
   ]
  },
  {
   "cell_type": "code",
   "execution_count": null,
   "metadata": {},
   "outputs": [],
   "source": [
    "# Encode categorical variables using one-hot encoding.\n",
    "from sklearn.preprocessing import OneHotEncoder\n",
    "enc = OneHotEncoder(sparse=False)\n",
    "\n",
    "# Fit the encoder and produce encoded DataFrame\n",
    "encode_df = pd.DataFrame(enc.fit_transform(charityDF.CLASSIFICATION.values.reshape(-1,1)))\n",
    "\n",
    "# Rename encoded columns\n",
    "encode_df.columns = enc.get_feature_names(['CLASSIFICATION'])\n",
    "encode_df.head()\n"
   ]
  },
  {
   "cell_type": "code",
   "execution_count": null,
   "metadata": {},
   "outputs": [],
   "source": [
    "# Merge the two DataFrames together and drop the Country column\n",
    "charityDF = charityDF.merge(encode_df,left_index=True,right_index=True).drop(\"CLASSIFICATION\",1)\n"
   ]
  },
  {
   "cell_type": "code",
   "execution_count": null,
   "metadata": {},
   "outputs": [],
   "source": [
    "# Print out the Application Counts value counts\n",
    "APPLICATION_counts = charityDF.APPLICATION_TYPE.value_counts()\n",
    "\n",
    "## Combine rare categorical values via bucketing.\n",
    "## Determine which values to replace\n",
    "replace_APPLICATION= list(APPLICATION_counts[APPLICATION_counts < 100].index)\n",
    "\n",
    "# Replace in DataFrame\n",
    "for applications in replace_APPLICATION:\n",
    "    charityDF.APPLICATION_TYPE = charityDF.APPLICATION_TYPE.replace(applications,\"Other\")\n",
    "\n",
    "# Check to make sure binning was successful\n",
    "charityDF.APPLICATION_TYPE.value_counts()\n"
   ]
  },
  {
   "cell_type": "markdown",
   "metadata": {},
   "source": [
    " Encode categorical variables using one-hot encoding.\n",
    " Fit the encoder and produce encoded DataFrame\n",
    " Rename encoded columns"
   ]
  },
  {
   "cell_type": "code",
   "execution_count": null,
   "metadata": {},
   "outputs": [],
   "source": [
    "# Merge the two DataFrames together and drop the Country column\n",
    "charityDF = charityDF.merge(encode_df,left_index=True,right_index=True).drop(\"APPLICATION_TYPE\",1)\n"
   ]
  },
  {
   "cell_type": "code",
   "execution_count": null,
   "metadata": {},
   "outputs": [],
   "source": [
    "## Store the names of all cryptocurrencies on a DataFramed named coins_name, \n",
    "## and use the crypto_df.index as the index for this new DataFrame.\n",
    "charityDF.head()\n"
   ]
  },
  {
   "cell_type": "code",
   "execution_count": null,
   "metadata": {},
   "outputs": [],
   "source": [
    "# Encode categorical variables using one-hot encoding.\n",
    "from sklearn.preprocessing import OneHotEncoder\n",
    "enc = OneHotEncoder(sparse=False)\n",
    "# Fit the encoder and produce encoded DataFrame\n",
    "encode_df = pd.DataFrame(enc.fit_transform(charityDF.AFFILIATION.values.reshape(-1,1)))\n",
    "# Rename encoded columns\n",
    "encode_df.columns = enc.get_feature_names(['AFFILIATION'])\n",
    "# Merge the two DataFrames together and drop the Country column\n",
    "charityDF = charityDF.merge(encode_df,left_index=True,right_index=True).drop(\"AFFILIATION\",1)\n"
   ]
  },
  {
   "cell_type": "code",
   "execution_count": null,
   "metadata": {},
   "outputs": [],
   "source": [
    "# Fit the encoder and produce encoded DataFrame\n",
    "encode_df = pd.DataFrame(enc.fit_transform(charityDF.ORGANIZATION.values.reshape(-1,1)))\n",
    "# Rename encoded columns\n",
    "encode_df.columns = enc.get_feature_names(['ORGANIZATION'])\n",
    "# Merge the two DataFrames together and drop the Country column\n",
    "charityDF = charityDF.merge(encode_df,left_index=True,right_index=True).drop(\"ORGANIZATION\",1)\n"
   ]
  },
  {
   "cell_type": "code",
   "execution_count": null,
   "metadata": {},
   "outputs": [],
   "source": [
    "# Fit the encoder and produce encoded DataFrame\n",
    "encode_df = pd.DataFrame(enc.fit_transform(charityDF.USE_CASE.values.reshape(-1,1)))\n",
    "# Rename encoded columns\n",
    "encode_df.columns = enc.get_feature_names(['USE_CASE'])\n",
    "# Merge the two DataFrames together and drop the Country column\n",
    "charityDF = charityDF.merge(encode_df,left_index=True,right_index=True).drop(\"USE_CASE\",1)\n"
   ]
  },
  {
   "cell_type": "code",
   "execution_count": null,
   "metadata": {},
   "outputs": [],
   "source": [
    "# Fit the encoder and produce encoded DataFrame\n",
    "encode_df = pd.DataFrame(enc.fit_transform(charityDF.INCOME_AMT.values.reshape(-1,1)))\n",
    "# Rename encoded columns\n",
    "encode_df.columns = enc.get_feature_names(['INCOME_AMT'])\n",
    "# Merge the two DataFrames together and drop the Country column\n",
    "charityDF = charityDF.merge(encode_df,left_index=True,right_index=True).drop(\"INCOME_AMT\",1)\n"
   ]
  },
  {
   "cell_type": "code",
   "execution_count": null,
   "metadata": {},
   "outputs": [],
   "source": [
    "# Fit the encoder and produce encoded DataFrame\n",
    "encode_df = pd.DataFrame(enc.fit_transform(charityDF.SPECIAL_CONSIDERATIONS.values.reshape(-1,1)))\n",
    "# Rename encoded columns\n",
    "encode_df.columns = enc.get_feature_names(['SPECIAL_CONSIDERATIONS'])\n",
    "# Merge the two DataFrames together and drop the Country column\n",
    "charityDF = charityDF.merge(encode_df,left_index=True,right_index=True).drop(\"SPECIAL_CONSIDERATIONS\",1)\n",
    "\n"
   ]
  },
  {
   "cell_type": "code",
   "execution_count": null,
   "metadata": {},
   "outputs": [],
   "source": [
    "# Split our preprocessed data into our features and target arrays\n",
    "y = charityDF[\"IS_SUCCESSFUL\"].values\n",
    "X = charityDF.drop([\"IS_SUCCESSFUL\"],1).values\n",
    "\n",
    "# Split the preprocessed data into a training and testing dataset\n",
    "X_train, X_test, y_train, y_test = train_test_split(X, y, random_state=78)\n",
    "\n",
    "# Create a StandardScaler instance\n",
    "scaler = StandardScaler()\n",
    "\n",
    "# Fit the StandardScaler\n",
    "X_scaler = scaler.fit(X_train)\n",
    "\n",
    "# Scale the data\n",
    "X_train_scaled = X_scaler.transform(X_train)\n",
    "X_test_scaled = X_scaler.transform(X_test)\n"
   ]
  },
  {
   "cell_type": "code",
   "execution_count": null,
   "metadata": {},
   "outputs": [],
   "source": [
    "len(X_train[0])\n"
   ]
  },
  {
   "cell_type": "code",
   "execution_count": null,
   "metadata": {},
   "outputs": [],
   "source": [
    "# Define the model - deep neural net\n",
    "number_input_features = len(X_train[0])\n",
    "hidden_nodes_layer1 =  12\n",
    "hidden_nodes_layer2 = 8\n",
    "\n",
    "nn = tf.keras.models.Sequential()\n",
    "\n",
    "# First hidden layer\n",
    "nn.add(\n",
    "    tf.keras.layers.Dense(units=hidden_nodes_layer1, input_dim=number_input_features, activation=\"relu\")\n",
    ")\n",
    "\n",
    "# Second hidden layer\n",
    "nn.add(tf.keras.layers.Dense(units=hidden_nodes_layer2, activation=\"relu\"))\n",
    "\n",
    "# Output layer\n",
    "nn.add(tf.keras.layers.Dense(units=1, activation=\"sigmoid\"))\n",
    "\n",
    "# Check the structure of the model\n",
    "nn.summary()\n"
   ]
  },
  {
   "cell_type": "code",
   "execution_count": null,
   "metadata": {},
   "outputs": [],
   "source": [
    "# Compile the model\n",
    "nn.compile(loss=\"binary_crossentropy\", optimizer=\"adam\", metrics=[\"accuracy\"])\n"
   ]
  },
  {
   "cell_type": "code",
   "execution_count": null,
   "metadata": {},
   "outputs": [],
   "source": [
    "# Train the model\n",
    "fit_model = nn.fit(X_train,y_train,epochs=1000)\n"
   ]
  },
  {
   "cell_type": "code",
   "execution_count": null,
   "metadata": {},
   "outputs": [],
   "source": [
    "# Evaluate the model using the test data\n",
    "model_loss, model_accuracy = nn.evaluate(X_test,y_test,verbose=2)\n",
    "print(f\"Loss: {model_loss}, Accuracy: {model_accuracy}\")\n"
   ]
  },
  {
   "cell_type": "code",
   "execution_count": null,
   "metadata": {},
   "outputs": [],
   "source": []
  }
 ],
 "metadata": {
  "file_extension": ".py",
  "kernelspec": {
   "display_name": "Python 3",
   "language": "python",
   "name": "python3"
  },
  "language_info": {
   "codemirror_mode": {
    "name": "ipython",
    "version": 3
   },
   "file_extension": ".py",
   "mimetype": "text/x-python",
   "name": "python",
   "nbconvert_exporter": "python",
   "pygments_lexer": "ipython3",
   "version": "3.7.4"
  },
  "mimetype": "text/x-python",
  "name": "python",
  "npconvert_exporter": "python",
  "pygments_lexer": "ipython3",
  "version": 3
 },
 "nbformat": 4,
 "nbformat_minor": 2
}
